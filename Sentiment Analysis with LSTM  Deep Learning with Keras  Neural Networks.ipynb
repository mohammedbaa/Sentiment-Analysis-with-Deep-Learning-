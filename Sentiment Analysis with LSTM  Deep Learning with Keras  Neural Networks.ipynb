{
 "cells": [
  {
   "cell_type": "markdown",
   "metadata": {},
   "source": [
    "# Importing Library "
   ]
  },
  {
   "cell_type": "code",
   "execution_count": 81,
   "metadata": {},
   "outputs": [],
   "source": [
    "import pandas as pd \n",
    "import numpy as np \n",
    "import re \n",
    "import nltk \n",
    "from nltk.corpus import stopwords\n",
    "from numpy import array\n",
    "import seaborn as sns \n",
    "import matplotlib.pylab as plt\n",
    "\n",
    "\n",
    "from keras.preprocessing.text import one_hot,Tokenizer\n",
    "from keras.preprocessing.sequence import pad_sequences\n",
    "from keras.models import Sequential\n",
    "from keras.layers import Activation,Dropout,Dense\n",
    "from keras.layers import Flatten,GlobalMaxPooling1D,Embedding,Conv1D,LSTM\n",
    "from sklearn.model_selection import train_test_split"
   ]
  },
  {
   "cell_type": "markdown",
   "metadata": {},
   "source": [
    "# Load Dataset"
   ]
  },
  {
   "cell_type": "code",
   "execution_count": 82,
   "metadata": {},
   "outputs": [
    {
     "data": {
      "text/html": [
       "<div>\n",
       "<style scoped>\n",
       "    .dataframe tbody tr th:only-of-type {\n",
       "        vertical-align: middle;\n",
       "    }\n",
       "\n",
       "    .dataframe tbody tr th {\n",
       "        vertical-align: top;\n",
       "    }\n",
       "\n",
       "    .dataframe thead th {\n",
       "        text-align: right;\n",
       "    }\n",
       "</style>\n",
       "<table border=\"1\" class=\"dataframe\">\n",
       "  <thead>\n",
       "    <tr style=\"text-align: right;\">\n",
       "      <th></th>\n",
       "      <th>review</th>\n",
       "      <th>sentiment</th>\n",
       "    </tr>\n",
       "  </thead>\n",
       "  <tbody>\n",
       "    <tr>\n",
       "      <th>0</th>\n",
       "      <td>One of the other reviewers has mentioned that ...</td>\n",
       "      <td>positive</td>\n",
       "    </tr>\n",
       "    <tr>\n",
       "      <th>1</th>\n",
       "      <td>A wonderful little production. &lt;br /&gt;&lt;br /&gt;The...</td>\n",
       "      <td>positive</td>\n",
       "    </tr>\n",
       "    <tr>\n",
       "      <th>2</th>\n",
       "      <td>I thought this was a wonderful way to spend ti...</td>\n",
       "      <td>positive</td>\n",
       "    </tr>\n",
       "    <tr>\n",
       "      <th>3</th>\n",
       "      <td>Basically there's a family where a little boy ...</td>\n",
       "      <td>negative</td>\n",
       "    </tr>\n",
       "    <tr>\n",
       "      <th>4</th>\n",
       "      <td>Petter Mattei's \"Love in the Time of Money\" is...</td>\n",
       "      <td>positive</td>\n",
       "    </tr>\n",
       "    <tr>\n",
       "      <th>...</th>\n",
       "      <td>...</td>\n",
       "      <td>...</td>\n",
       "    </tr>\n",
       "    <tr>\n",
       "      <th>49995</th>\n",
       "      <td>I thought this movie did a down right good job...</td>\n",
       "      <td>positive</td>\n",
       "    </tr>\n",
       "    <tr>\n",
       "      <th>49996</th>\n",
       "      <td>Bad plot, bad dialogue, bad acting, idiotic di...</td>\n",
       "      <td>negative</td>\n",
       "    </tr>\n",
       "    <tr>\n",
       "      <th>49997</th>\n",
       "      <td>I am a Catholic taught in parochial elementary...</td>\n",
       "      <td>negative</td>\n",
       "    </tr>\n",
       "    <tr>\n",
       "      <th>49998</th>\n",
       "      <td>I'm going to have to disagree with the previou...</td>\n",
       "      <td>negative</td>\n",
       "    </tr>\n",
       "    <tr>\n",
       "      <th>49999</th>\n",
       "      <td>No one expects the Star Trek movies to be high...</td>\n",
       "      <td>negative</td>\n",
       "    </tr>\n",
       "  </tbody>\n",
       "</table>\n",
       "<p>50000 rows × 2 columns</p>\n",
       "</div>"
      ],
      "text/plain": [
       "                                                  review sentiment\n",
       "0      One of the other reviewers has mentioned that ...  positive\n",
       "1      A wonderful little production. <br /><br />The...  positive\n",
       "2      I thought this was a wonderful way to spend ti...  positive\n",
       "3      Basically there's a family where a little boy ...  negative\n",
       "4      Petter Mattei's \"Love in the Time of Money\" is...  positive\n",
       "...                                                  ...       ...\n",
       "49995  I thought this movie did a down right good job...  positive\n",
       "49996  Bad plot, bad dialogue, bad acting, idiotic di...  negative\n",
       "49997  I am a Catholic taught in parochial elementary...  negative\n",
       "49998  I'm going to have to disagree with the previou...  negative\n",
       "49999  No one expects the Star Trek movies to be high...  negative\n",
       "\n",
       "[50000 rows x 2 columns]"
      ]
     },
     "execution_count": 82,
     "metadata": {},
     "output_type": "execute_result"
    }
   ],
   "source": [
    "#Load The Dataset \n",
    "df=pd.read_csv('IMDB_Dataset.csv')\n",
    "df"
   ]
  },
  {
   "cell_type": "markdown",
   "metadata": {},
   "source": [
    "# EDA"
   ]
  },
  {
   "cell_type": "code",
   "execution_count": 83,
   "metadata": {},
   "outputs": [
    {
     "data": {
      "text/plain": [
       "(50000, 2)"
      ]
     },
     "execution_count": 83,
     "metadata": {},
     "output_type": "execute_result"
    }
   ],
   "source": [
    "# check the shape \n",
    "df.shape"
   ]
  },
  {
   "cell_type": "code",
   "execution_count": 84,
   "metadata": {},
   "outputs": [
    {
     "data": {
      "text/plain": [
       "False"
      ]
     },
     "execution_count": 84,
     "metadata": {},
     "output_type": "execute_result"
    }
   ],
   "source": [
    "# checking for missing value \n",
    "df.isnull().values.any()"
   ]
  },
  {
   "cell_type": "code",
   "execution_count": 85,
   "metadata": {},
   "outputs": [
    {
     "data": {
      "text/plain": [
       "<Axes: xlabel='sentiment', ylabel='count'>"
      ]
     },
     "execution_count": 85,
     "metadata": {},
     "output_type": "execute_result"
    },
    {
     "data": {
      "image/png": "[encoded data removed]",
      "text/plain": [
       "<Figure size 640x480 with 1 Axes>"
      ]
     },
     "metadata": {},
     "output_type": "display_data"
    }
   ],
   "source": [
    "sns.countplot(x='sentiment',data=df)"
   ]
  },
  {
   "cell_type": "markdown",
   "metadata": {},
   "source": [
    "# Data Preprocessing "
   ]
  },
  {
   "cell_type": "code",
   "execution_count": 86,
   "metadata": {},
   "outputs": [
    {
     "data": {
      "text/plain": [
       "'I thought this was a wonderful way to spend time on a too hot summer weekend, sitting in the air conditioned theater and watching a light-hearted comedy. The plot is simplistic, but the dialogue is witty and the characters are likable (even the well bread suspected serial killer). While some may be disappointed when they realize this is not Match Point 2: Risk Addiction, I thought it was proof that Woody Allen is still fully in control of the style many of us have grown to love.<br /><br />This was the most I\\'d laughed at one of Woody\\'s comedies in years (dare I say a decade?). While I\\'ve never been impressed with Scarlet Johanson, in this she managed to tone down her \"sexy\" image and jumped right into a average, but spirited young woman.<br /><br />This may not be the crown jewel of his career, but it was wittier than \"Devil Wears Prada\" and more interesting than \"Superman\" a great comedy to go see with friends.'"
      ]
     },
     "execution_count": 86,
     "metadata": {},
     "output_type": "execute_result"
    }
   ],
   "source": [
    "# Check of how the Text is written (Any Example that you Want)\n",
    "df['review'][2]"
   ]
  },
  {
   "cell_type": "code",
   "execution_count": 87,
   "metadata": {},
   "outputs": [],
   "source": [
    "# Remove the Tags\n",
    "Tag_RE=re.compile(r'<[^>]+>')\n",
    "\n",
    "def remove_tags(text):\n",
    "    return Tag_RE.sub(' ',text) #Replaced it with white spaces "
   ]
  },
  {
   "cell_type": "code",
   "execution_count": 88,
   "metadata": {},
   "outputs": [
    {
     "name": "stderr",
     "output_type": "stream",
     "text": [
      "[nltk_data] Downloading package stopwords to\n",
      "[nltk_data]     C:\\Users\\HP\\AppData\\Roaming\\nltk_data...\n",
      "[nltk_data]   Package stopwords is already up-to-date!\n"
     ]
    },
    {
     "data": {
      "text/plain": [
       "True"
      ]
     },
     "execution_count": 88,
     "metadata": {},
     "output_type": "execute_result"
    }
   ],
   "source": [
    "nltk.download('stopwords')"
   ]
  },
  {
   "cell_type": "code",
   "execution_count": 89,
   "metadata": {},
   "outputs": [],
   "source": [
    "def preprocess_text(sen):\n",
    "    #cleans texts data up ,leaving only 2 or more char a long non-stopwords composed of A-Z & a-z only in lower case\n",
    "\n",
    "    sentence = sen.lower()\n",
    "\n",
    "    # remove the tages\n",
    "    sentance=remove_tags(sen)\n",
    "\n",
    "    # remove punctuations and numbers \n",
    "    sentance = re.sub(r'[^a-zA-Z]',' ',sentance)\n",
    "    #single character removal \n",
    "    sentance=re.sub(r'\\s+[a-zA-z]\\s+' ,' ',sentance) # for example Mark's when we remove the s it will replaced with empty strings \n",
    "    \n",
    "    #remove Multiple Spaces \n",
    "    sentance=re.sub(r'\\s+',' ',sentance)  # replace the single char by empty space \n",
    "    # remove stopwords \n",
    "    pattern=re.compile(r'\\b(' + r'|' .join(stopwords.words('english'))+r')\\b\\s+')\n",
    "    sentance=pattern.sub(\" \" ,sentance) \n",
    "\n",
    "    return sentance\n"
   ]
  },
  {
   "cell_type": "code",
   "execution_count": 90,
   "metadata": {},
   "outputs": [],
   "source": [
    "# Calling the preprocessing_text function on df \n",
    "x=[]\n",
    "sentences=list(df['review'])\n",
    "for sen in sentences:\n",
    "    x.append(preprocess_text(sen))\n",
    "    "
   ]
  },
  {
   "cell_type": "code",
   "execution_count": 91,
   "metadata": {},
   "outputs": [
    {
     "data": {
      "text/plain": [
       "'I thought   wonderful way  spend time   hot summer weekend sitting   air conditioned theater  watching light hearted comedy The plot  simplistic   dialogue  witty   characters  likable even  well bread suspected serial killer While  may  disappointed   realize    Match Point Risk Addiction thought   proof  Woody Allen  still fully  control   style many  us  grown  love This     laughed  one  Woody comedies  years dare say decade While  never  impressed  Scarlet Johanson    managed  tone   sexy image  jumped right  average  spirited young woman This may    crown jewel   career    wittier  Devil Wears Prada   interesting  Superman great comedy  go see  friends '"
      ]
     },
     "execution_count": 91,
     "metadata": {},
     "output_type": "execute_result"
    }
   ],
   "source": [
    "# show sample \n",
    "x[2]"
   ]
  },
  {
   "cell_type": "code",
   "execution_count": 92,
   "metadata": {},
   "outputs": [],
   "source": [
    "# convert sentiment label to 0 and 1 \n",
    "y=df['sentiment']\n",
    "\n",
    "y=np.array(list(map(lambda x: 1  if x=='positive' else 0 ,y)))\n"
   ]
  },
  {
   "cell_type": "code",
   "execution_count": 93,
   "metadata": {},
   "outputs": [],
   "source": [
    "# Train - Test split \n",
    "X_train,X_test ,y_train,y_test=train_test_split(x,y,test_size=0.20,random_state=42)\n",
    "\n",
    "# train goes into model \n",
    "# test goes into model performance \n"
   ]
  },
  {
   "cell_type": "markdown",
   "metadata": {},
   "source": [
    "# Preparing the Embedding layer \n",
    "\n",
    "convert the sentances  to Numaric  "
   ]
  },
  {
   "cell_type": "code",
   "execution_count": 94,
   "metadata": {},
   "outputs": [],
   "source": [
    "# in word index dict each word  in courpus is key  and value is the index of that key |\n",
    "word_tokenizer=Tokenizer()\n",
    "word_tokenizer.fit_on_texts(X_train)\n",
    "\n",
    "X_train=word_tokenizer.texts_to_sequences(X_train)\n",
    "X_test=word_tokenizer.texts_to_sequences(X_test)"
   ]
  },
  {
   "cell_type": "code",
   "execution_count": 95,
   "metadata": {},
   "outputs": [
    {
     "data": {
      "text/plain": [
       "90855"
      ]
     },
     "execution_count": 95,
     "metadata": {},
     "output_type": "execute_result"
    }
   ],
   "source": [
    "# Adding 1 to store the dimension for words for which no pretrained word embedding exist  > 90855 uniqe words\n",
    "vocab_length=len(word_tokenizer.word_index)+1\n",
    "vocab_length"
   ]
  },
  {
   "cell_type": "code",
   "execution_count": 96,
   "metadata": {},
   "outputs": [],
   "source": [
    "# padding all reviews to fixed length 100\n",
    "\n",
    "maxlen=100\n",
    "X_train=pad_sequences(X_train,padding='post',maxlen=maxlen)\n",
    "X_test=pad_sequences(X_test,padding='post',maxlen=maxlen)\n"
   ]
  },
  {
   "cell_type": "code",
   "execution_count": 97,
   "metadata": {},
   "outputs": [],
   "source": [
    "# now we use Glove Embaddding and create an Embedding Dictionary \n",
    "from numpy import asarray\n",
    "from numpy import zeros\n",
    "\n",
    "embedding_dictionary=dict()\n",
    "glove_file=open('a2_glove.6B.100d.txt',encoding='utf8')\n",
    "\n",
    "for line in glove_file:\n",
    "    recordes=line.split()\n",
    "    word=recordes[0]\n",
    "    vectors_dimintions=asarray(recordes[1:],dtype='float32')\n",
    "    embedding_dictionary[word]=vectors_dimintions\n",
    "glove_file.close()    "
   ]
  },
  {
   "cell_type": "code",
   "execution_count": 98,
   "metadata": {},
   "outputs": [],
   "source": [
    "#create embadding matrix having 100 columns\n",
    "#containing 100-dimensional GloVe word embedding for all words in our corpus.\n",
    "\n",
    "embedding_matrix=zeros((vocab_length,100))\n",
    "for word, index in word_tokenizer.word_index.items():\n",
    "    embedding_vector=embedding_dictionary.get(word)\n",
    "    if embedding_vector is not None:\n",
    "        embedding_matrix[index]=embedding_vector\n",
    "    "
   ]
  },
  {
   "cell_type": "code",
   "execution_count": 99,
   "metadata": {},
   "outputs": [
    {
     "data": {
      "text/plain": [
       "(90855, 100)"
      ]
     },
     "execution_count": 99,
     "metadata": {},
     "output_type": "execute_result"
    }
   ],
   "source": [
    "embedding_matrix.shape"
   ]
  },
  {
   "cell_type": "markdown",
   "metadata": {},
   "source": [
    "# Model Traning  "
   ]
  },
  {
   "cell_type": "markdown",
   "metadata": {},
   "source": [
    "### Simple Neural Network "
   ]
  },
  {
   "cell_type": "code",
   "execution_count": 100,
   "metadata": {},
   "outputs": [],
   "source": [
    "# Neural Network Architecture \n",
    "\n",
    "snn_model=Sequential()\n",
    "\n",
    "embedding_layar=Embedding(vocab_length,100,weights=[embedding_matrix],input_length=maxlen , trainable=False)\n",
    "snn_model.add(embedding_layar)\n",
    "snn_model.add(Flatten())\n",
    "snn_model.add(Dense(1,activation='sigmoid'))\n"
   ]
  },
  {
   "cell_type": "code",
   "execution_count": 101,
   "metadata": {},
   "outputs": [
    {
     "name": "stdout",
     "output_type": "stream",
     "text": [
      "Model: \"sequential_4\"\n",
      "_________________________________________________________________\n",
      " Layer (type)                Output Shape              Param #   \n",
      "=================================================================\n",
      " embedding_4 (Embedding)     (None, 100, 100)          9085500   \n",
      "                                                                 \n",
      " flatten_1 (Flatten)         (None, 10000)             0         \n",
      "                                                                 \n",
      " dense_3 (Dense)             (None, 1)                 10001     \n",
      "                                                                 \n",
      "=================================================================\n",
      "Total params: 9095501 (34.70 MB)\n",
      "Trainable params: 10001 (39.07 KB)\n",
      "Non-trainable params: 9085500 (34.66 MB)\n",
      "_________________________________________________________________\n",
      "None\n"
     ]
    }
   ],
   "source": [
    "# Model Compile \n",
    "snn_model.compile(optimizer='adam',loss='binary_crossentropy',metrics=['acc'])\n",
    "print(snn_model.summary())"
   ]
  },
  {
   "cell_type": "code",
   "execution_count": 102,
   "metadata": {},
   "outputs": [
    {
     "name": "stdout",
     "output_type": "stream",
     "text": [
      "Epoch 1/6\n",
      "250/250 [==============================] - 2s 5ms/step - loss: 0.5602 - acc: 0.7120 - val_loss: 0.5095 - val_acc: 0.7554\n",
      "Epoch 2/6\n",
      "250/250 [==============================] - 1s 4ms/step - loss: 0.4521 - acc: 0.7933 - val_loss: 0.5103 - val_acc: 0.7590\n",
      "Epoch 3/6\n",
      "250/250 [==============================] - 1s 4ms/step - loss: 0.4139 - acc: 0.8161 - val_loss: 0.5137 - val_acc: 0.7688\n",
      "Epoch 4/6\n",
      "250/250 [==============================] - 1s 4ms/step - loss: 0.3912 - acc: 0.8279 - val_loss: 0.5110 - val_acc: 0.7661\n",
      "Epoch 5/6\n",
      "250/250 [==============================] - 1s 4ms/step - loss: 0.3790 - acc: 0.8325 - val_loss: 0.5264 - val_acc: 0.7673\n",
      "Epoch 6/6\n",
      "250/250 [==============================] - 1s 4ms/step - loss: 0.3627 - acc: 0.8420 - val_loss: 0.5366 - val_acc: 0.7623\n"
     ]
    }
   ],
   "source": [
    "# Model Training \n",
    "snn_model_history=snn_model.fit(X_train,y_train,batch_size=128,epochs=6,verbose=1,validation_split=(0.2))\n"
   ]
  },
  {
   "cell_type": "code",
   "execution_count": 103,
   "metadata": {},
   "outputs": [
    {
     "name": "stdout",
     "output_type": "stream",
     "text": [
      "313/313 [==============================] - 1s 2ms/step - loss: 0.5448 - acc: 0.7533\n"
     ]
    }
   ],
   "source": [
    "# prediction on testset \n",
    "\n",
    "score=snn_model.evaluate(X_test,y_test,verbose=1)"
   ]
  },
  {
   "cell_type": "code",
   "execution_count": 104,
   "metadata": {},
   "outputs": [
    {
     "name": "stdout",
     "output_type": "stream",
     "text": [
      "Test score: 0.5448005199432373\n",
      "Test Accuracy: 0.7533000111579895\n"
     ]
    }
   ],
   "source": [
    "#Model Performance \n",
    "print(\"Test score:\" , score[0])\n",
    "print(\"Test Accuracy:\" , score[1])"
   ]
  },
  {
   "cell_type": "code",
   "execution_count": 105,
   "metadata": {},
   "outputs": [
    {
     "data": {
      "image/png": "[encoded data removed]",
      "text/plain": [
       "<Figure size 640x480 with 1 Axes>"
      ]
     },
     "metadata": {},
     "output_type": "display_data"
    },
    {
     "data": {
      "image/png": "[encoded data removed]",
      "text/plain": [
       "<Figure size 640x480 with 1 Axes>"
      ]
     },
     "metadata": {},
     "output_type": "display_data"
    }
   ],
   "source": [
    "# Model performance Charts \n",
    "plt.plot(snn_model_history.history['acc'])\n",
    "plt.plot(snn_model_history.history['val_acc'])\n",
    "\n",
    "plt.title('Model Accuracy')\n",
    "plt.ylabel('accuracy')\n",
    "plt.xlabel('epoch')\n",
    "plt.legend(['train','test'],loc='upper left')\n",
    "plt.show()\n",
    "\n",
    "plt.plot(snn_model_history.history['loss'])\n",
    "plt.plot(snn_model_history.history['val_loss'])\n",
    "\n",
    "plt.title('Model Loss')\n",
    "plt.ylabel('Loss')\n",
    "plt.xlabel('epoch')\n",
    "plt.legend(['train','test'],loc='upper left')\n",
    "\n",
    "\n",
    "plt.show()"
   ]
  },
  {
   "cell_type": "markdown",
   "metadata": {},
   "source": [
    "### Since we got an overfit of the model we going to try another way  "
   ]
  },
  {
   "cell_type": "markdown",
   "metadata": {},
   "source": [
    "# Convolutional Neural Network "
   ]
  },
  {
   "cell_type": "code",
   "execution_count": 106,
   "metadata": {},
   "outputs": [],
   "source": [
    "# Neural Network Architecture \n",
    "cnn_model=Sequential()\n",
    "\n",
    "embedding_layar=Embedding(vocab_length,100,weights=[embedding_matrix],input_length=maxlen , trainable=False)\n",
    "cnn_model.add(embedding_layar)\n",
    "\n",
    "cnn_model.add(Conv1D(128,5,activation='relu'))\n",
    "cnn_model.add(GlobalMaxPooling1D())\n",
    "cnn_model.add(Dense(1,activation='sigmoid'))"
   ]
  },
  {
   "cell_type": "code",
   "execution_count": 107,
   "metadata": {},
   "outputs": [
    {
     "name": "stdout",
     "output_type": "stream",
     "text": [
      "Model: \"sequential_5\"\n",
      "_________________________________________________________________\n",
      " Layer (type)                Output Shape              Param #   \n",
      "=================================================================\n",
      " embedding_5 (Embedding)     (None, 100, 100)          9085500   \n",
      "                                                                 \n",
      " conv1d_1 (Conv1D)           (None, 96, 128)           64128     \n",
      "                                                                 \n",
      " global_max_pooling1d_1 (Gl  (None, 128)               0         \n",
      " obalMaxPooling1D)                                               \n",
      "                                                                 \n",
      " dense_4 (Dense)             (None, 1)                 129       \n",
      "                                                                 \n",
      "=================================================================\n",
      "Total params: 9149757 (34.90 MB)\n",
      "Trainable params: 64257 (251.00 KB)\n",
      "Non-trainable params: 9085500 (34.66 MB)\n",
      "_________________________________________________________________\n",
      "None\n"
     ]
    }
   ],
   "source": [
    "# Model Compile\n",
    "cnn_model.compile(optimizer='adam',loss='binary_crossentropy',metrics=['acc'])\n",
    "print(cnn_model.summary())"
   ]
  },
  {
   "cell_type": "code",
   "execution_count": 108,
   "metadata": {},
   "outputs": [
    {
     "name": "stdout",
     "output_type": "stream",
     "text": [
      "Epoch 1/6\n",
      "250/250 [==============================] - 5s 16ms/step - loss: 0.5065 - acc: 0.7543 - val_loss: 0.3889 - val_acc: 0.8321\n",
      "Epoch 2/6\n",
      "250/250 [==============================] - 4s 16ms/step - loss: 0.3500 - acc: 0.8513 - val_loss: 0.3525 - val_acc: 0.8421\n",
      "Epoch 3/6\n",
      "250/250 [==============================] - 5s 19ms/step - loss: 0.2965 - acc: 0.8786 - val_loss: 0.3456 - val_acc: 0.8479\n",
      "Epoch 4/6\n",
      "250/250 [==============================] - 5s 21ms/step - loss: 0.2503 - acc: 0.9044 - val_loss: 0.3623 - val_acc: 0.8382\n",
      "Epoch 5/6\n",
      "250/250 [==============================] - 5s 21ms/step - loss: 0.2104 - acc: 0.9262 - val_loss: 0.3290 - val_acc: 0.8566\n",
      "Epoch 6/6\n",
      "250/250 [==============================] - 5s 20ms/step - loss: 0.1755 - acc: 0.9448 - val_loss: 0.3363 - val_acc: 0.8524\n"
     ]
    }
   ],
   "source": [
    "# Model Training \n",
    "cnn_model_history=cnn_model.fit(X_train,y_train,batch_size=128,epochs=6,verbose=1,validation_split=(0.2))"
   ]
  },
  {
   "cell_type": "code",
   "execution_count": 109,
   "metadata": {},
   "outputs": [
    {
     "name": "stdout",
     "output_type": "stream",
     "text": [
      "313/313 [==============================] - 2s 5ms/step - loss: 0.3395 - acc: 0.8558\n"
     ]
    }
   ],
   "source": [
    "# prediction on testset \n",
    "score=cnn_model.evaluate(X_test,y_test,verbose=1)"
   ]
  },
  {
   "cell_type": "code",
   "execution_count": 110,
   "metadata": {},
   "outputs": [
    {
     "name": "stdout",
     "output_type": "stream",
     "text": [
      "Test score: 0.3394785523414612\n",
      "Test Accuracy: 0.8557999730110168\n"
     ]
    }
   ],
   "source": [
    "#Model Performance \n",
    "print(\"Test score:\" , score[0])\n",
    "print(\"Test Accuracy:\" , score[1])"
   ]
  },
  {
   "cell_type": "code",
   "execution_count": 111,
   "metadata": {},
   "outputs": [
    {
     "data": {
      "image/png": "[encoded data removed]",
      "text/plain": [
       "<Figure size 640x480 with 1 Axes>"
      ]
     },
     "metadata": {},
     "output_type": "display_data"
    },
    {
     "data": {
      "image/png": "[encoded data removed]",
      "text/plain": [
       "<Figure size 640x480 with 1 Axes>"
      ]
     },
     "metadata": {},
     "output_type": "display_data"
    }
   ],
   "source": [
    "# Model performance Charts \n",
    "plt.plot(cnn_model_history.history['acc'])\n",
    "plt.plot(cnn_model_history.history['val_acc'])\n",
    "\n",
    "plt.title('Model Accuracy')\n",
    "plt.ylabel('accuracy')\n",
    "plt.xlabel('epoch')\n",
    "plt.legend(['train','test'],loc='upper left')\n",
    "plt.show()\n",
    "\n",
    "plt.plot(cnn_model_history.history['loss'])\n",
    "plt.plot(cnn_model_history.history['val_loss'])\n",
    "\n",
    "plt.title('Model Loss')\n",
    "plt.ylabel('Loss')\n",
    "plt.xlabel('epoch')\n",
    "plt.legend(['train','test'],loc='upper left')\n",
    "\n",
    "\n",
    "plt.show()"
   ]
  },
  {
   "cell_type": "markdown",
   "metadata": {},
   "source": [
    "### Much Better AS Accurecy but still have an issue using cnn still there is an overfitting so lets try something else  "
   ]
  },
  {
   "cell_type": "markdown",
   "metadata": {},
   "source": [
    "# We are going to use the LSTM (RUCURRENT NEURAL NETWORK)"
   ]
  },
  {
   "cell_type": "code",
   "execution_count": 112,
   "metadata": {},
   "outputs": [],
   "source": [
    "# Neural Network Architecture \n",
    "LSTM_model=Sequential()\n",
    "\n",
    "embedding_layar=Embedding(vocab_length,100,weights=[embedding_matrix],input_length=maxlen , trainable=False)\n",
    "LSTM_model.add(embedding_layar)\n",
    "\n",
    "LSTM_model.add(LSTM(128))\n",
    "LSTM_model.add(Dense(1,activation='sigmoid'))\n"
   ]
  },
  {
   "cell_type": "code",
   "execution_count": 113,
   "metadata": {},
   "outputs": [
    {
     "name": "stdout",
     "output_type": "stream",
     "text": [
      "Model: \"sequential_6\"\n",
      "_________________________________________________________________\n",
      " Layer (type)                Output Shape              Param #   \n",
      "=================================================================\n",
      " embedding_6 (Embedding)     (None, 100, 100)          9085500   \n",
      "                                                                 \n",
      " lstm_1 (LSTM)               (None, 128)               117248    \n",
      "                                                                 \n",
      " dense_5 (Dense)             (None, 1)                 129       \n",
      "                                                                 \n",
      "=================================================================\n",
      "Total params: 9202877 (35.11 MB)\n",
      "Trainable params: 117377 (458.50 KB)\n",
      "Non-trainable params: 9085500 (34.66 MB)\n",
      "_________________________________________________________________\n",
      "None\n"
     ]
    }
   ],
   "source": [
    "# Model Compile \n",
    "LSTM_model.compile(optimizer='adam',loss='binary_crossentropy',metrics=['acc'])\n",
    "print(LSTM_model.summary())"
   ]
  },
  {
   "cell_type": "code",
   "execution_count": 114,
   "metadata": {},
   "outputs": [
    {
     "name": "stdout",
     "output_type": "stream",
     "text": [
      "Epoch 1/6\n",
      "250/250 [==============================] - 37s 141ms/step - loss: 0.5086 - acc: 0.7492 - val_loss: 0.4531 - val_acc: 0.8019\n",
      "Epoch 2/6\n",
      "250/250 [==============================] - 35s 142ms/step - loss: 0.4244 - acc: 0.8059 - val_loss: 0.3959 - val_acc: 0.8340\n",
      "Epoch 3/6\n",
      "250/250 [==============================] - 38s 151ms/step - loss: 0.3787 - acc: 0.8342 - val_loss: 0.3585 - val_acc: 0.8424\n",
      "Epoch 4/6\n",
      "250/250 [==============================] - 36s 143ms/step - loss: 0.3450 - acc: 0.8530 - val_loss: 0.3455 - val_acc: 0.8505\n",
      "Epoch 5/6\n",
      "250/250 [==============================] - 35s 141ms/step - loss: 0.3236 - acc: 0.8628 - val_loss: 0.3340 - val_acc: 0.8539\n",
      "Epoch 6/6\n",
      "250/250 [==============================] - 36s 142ms/step - loss: 0.3067 - acc: 0.8728 - val_loss: 0.3903 - val_acc: 0.8395\n"
     ]
    }
   ],
   "source": [
    "# Model Training \n",
    "LSTM_model_history=LSTM_model.fit(X_train,y_train,batch_size=128,epochs=6,verbose=1,validation_split=(0.2))"
   ]
  },
  {
   "cell_type": "code",
   "execution_count": 115,
   "metadata": {},
   "outputs": [
    {
     "name": "stdout",
     "output_type": "stream",
     "text": [
      "313/313 [==============================] - 6s 18ms/step - loss: 0.3881 - acc: 0.8368\n"
     ]
    }
   ],
   "source": [
    "# prediction on testset \n",
    "score=LSTM_model.evaluate(X_test,y_test,verbose=1)"
   ]
  },
  {
   "cell_type": "code",
   "execution_count": 116,
   "metadata": {},
   "outputs": [
    {
     "name": "stdout",
     "output_type": "stream",
     "text": [
      "Test score: 0.38814568519592285\n",
      "Test Accuracy: 0.8367999792098999\n"
     ]
    }
   ],
   "source": [
    "#Model Performance \n",
    "print(\"Test score:\" , score[0])\n",
    "print(\"Test Accuracy:\" , score[1])"
   ]
  },
  {
   "cell_type": "code",
   "execution_count": 117,
   "metadata": {},
   "outputs": [
    {
     "data": {
      "image/png": "[encoded data removed]",
      "text/plain": [
       "<Figure size 640x480 with 1 Axes>"
      ]
     },
     "metadata": {},
     "output_type": "display_data"
    },
    {
     "data": {
      "image/png": "[encoded data removed]",
      "text/plain": [
       "<Figure size 640x480 with 1 Axes>"
      ]
     },
     "metadata": {},
     "output_type": "display_data"
    }
   ],
   "source": [
    "# Model performance Charts \n",
    "plt.plot(LSTM_model_history.history['acc'])\n",
    "plt.plot(LSTM_model_history.history['val_acc'])\n",
    "\n",
    "plt.title('Model Accuracy')\n",
    "plt.ylabel('accuracy')\n",
    "plt.xlabel('epoch')\n",
    "plt.legend(['train','test'],loc='upper left')\n",
    "plt.show()\n",
    "\n",
    "plt.plot(LSTM_model_history.history['loss'])\n",
    "plt.plot(LSTM_model_history.history['val_loss'])\n",
    "\n",
    "plt.title('Model Loss')\n",
    "plt.ylabel('Loss')\n",
    "plt.xlabel('epoch')\n",
    "plt.legend(['train','test'],loc='upper left')\n",
    "\n",
    "\n",
    "plt.show()"
   ]
  },
  {
   "cell_type": "markdown",
   "metadata": {},
   "source": [
    "# Much better ((':')') \n"
   ]
  },
  {
   "cell_type": "code",
   "execution_count": 118,
   "metadata": {},
   "outputs": [
    {
     "name": "stderr",
     "output_type": "stream",
     "text": [
      "c:\\Users\\HP\\anaconda3\\lib\\site-packages\\keras\\src\\engine\\training.py:3103: UserWarning: You are saving your model as an HDF5 file via `model.save()`. This file format is considered legacy. We recommend using instead the native Keras format, e.g. `model.save('my_model.keras')`.\n",
      "  saving_api.save_model(\n"
     ]
    }
   ],
   "source": [
    "# Saving the model as h5 file for possible use later \n",
    "LSTM_model.save(f\"./cl_lstm_model_acc_{round(score[1],3)}.h5\" , save_format='h5')"
   ]
  },
  {
   "cell_type": "markdown",
   "metadata": {},
   "source": [
    "# Test it On Unseen Data "
   ]
  },
  {
   "cell_type": "code",
   "execution_count": 119,
   "metadata": {},
   "outputs": [
    {
     "data": {
      "text/html": [
       "<div>\n",
       "<style scoped>\n",
       "    .dataframe tbody tr th:only-of-type {\n",
       "        vertical-align: middle;\n",
       "    }\n",
       "\n",
       "    .dataframe tbody tr th {\n",
       "        vertical-align: top;\n",
       "    }\n",
       "\n",
       "    .dataframe thead th {\n",
       "        text-align: right;\n",
       "    }\n",
       "</style>\n",
       "<table border=\"1\" class=\"dataframe\">\n",
       "  <thead>\n",
       "    <tr style=\"text-align: right;\">\n",
       "      <th></th>\n",
       "      <th>Unnamed: 0</th>\n",
       "      <th>Movie</th>\n",
       "      <th>Review Text</th>\n",
       "      <th>IMDb Rating</th>\n",
       "    </tr>\n",
       "  </thead>\n",
       "  <tbody>\n",
       "    <tr>\n",
       "      <th>0</th>\n",
       "      <td>0</td>\n",
       "      <td>Ex Machina</td>\n",
       "      <td>Intelligent Movie.\\nThis movie is obviously al...</td>\n",
       "      <td>9</td>\n",
       "    </tr>\n",
       "    <tr>\n",
       "      <th>1</th>\n",
       "      <td>1</td>\n",
       "      <td>Ex Machina</td>\n",
       "      <td>Extraordinary and thought-provoking.\\n'Ex mach...</td>\n",
       "      <td>10</td>\n",
       "    </tr>\n",
       "    <tr>\n",
       "      <th>2</th>\n",
       "      <td>2</td>\n",
       "      <td>Ex Machina</td>\n",
       "      <td>Poor story, only reasonable otherwise.\\nIf I h...</td>\n",
       "      <td>3</td>\n",
       "    </tr>\n",
       "    <tr>\n",
       "      <th>3</th>\n",
       "      <td>3</td>\n",
       "      <td>Ex Machina</td>\n",
       "      <td>Had Great Potential.\\nThis movie is one of the...</td>\n",
       "      <td>1</td>\n",
       "    </tr>\n",
       "    <tr>\n",
       "      <th>4</th>\n",
       "      <td>4</td>\n",
       "      <td>Eternals</td>\n",
       "      <td>Amazing visuals and philosophical concepts!\\n\\...</td>\n",
       "      <td>10</td>\n",
       "    </tr>\n",
       "    <tr>\n",
       "      <th>5</th>\n",
       "      <td>5</td>\n",
       "      <td>Eternals</td>\n",
       "      <td>Worst MCU film ever\\n\\nFollowing the events of...</td>\n",
       "      <td>3</td>\n",
       "    </tr>\n",
       "  </tbody>\n",
       "</table>\n",
       "</div>"
      ],
      "text/plain": [
       "   Unnamed: 0       Movie                                        Review Text  \\\n",
       "0           0  Ex Machina  Intelligent Movie.\\nThis movie is obviously al...   \n",
       "1           1  Ex Machina  Extraordinary and thought-provoking.\\n'Ex mach...   \n",
       "2           2  Ex Machina  Poor story, only reasonable otherwise.\\nIf I h...   \n",
       "3           3  Ex Machina  Had Great Potential.\\nThis movie is one of the...   \n",
       "4           4    Eternals  Amazing visuals and philosophical concepts!\\n\\...   \n",
       "5           5    Eternals  Worst MCU film ever\\n\\nFollowing the events of...   \n",
       "\n",
       "   IMDb Rating  \n",
       "0            9  \n",
       "1           10  \n",
       "2            3  \n",
       "3            1  \n",
       "4           10  \n",
       "5            3  "
      ]
     },
     "execution_count": 119,
     "metadata": {},
     "output_type": "execute_result"
    }
   ],
   "source": [
    "sample_review=pd.read_csv('a3_IMDb_Unseen_Reviews.csv')\n",
    "sample_review.head(6)"
   ]
  },
  {
   "cell_type": "code",
   "execution_count": 121,
   "metadata": {},
   "outputs": [],
   "source": [
    "# Do preprocess for the  Review Text with the earlier defiend preprocess \n",
    "unseen_review=sample_review['Review Text']\n",
    "unseen_processed=[]\n",
    "for review in unseen_review:\n",
    "    review=preprocess_text(review)\n",
    "    unseen_processed.append(review) "
   ]
  },
  {
   "cell_type": "code",
   "execution_count": 122,
   "metadata": {},
   "outputs": [],
   "source": [
    "#Tokenising instance with earlier traiend tokeniser \n",
    "unseen_tokenized=word_tokenizer.texts_to_sequences(unseen_processed)\n",
    "\n",
    "#pooling instance to have maxlenght of 100 token \n",
    "unseen_padded=pad_sequences(unseen_tokenized,padding='post',maxlen=maxlen)"
   ]
  },
  {
   "cell_type": "code",
   "execution_count": 123,
   "metadata": {},
   "outputs": [
    {
     "name": "stdout",
     "output_type": "stream",
     "text": [
      "1/1 [==============================] - 0s 366ms/step\n"
     ]
    },
    {
     "data": {
      "text/plain": [
       "array([[0.5198481 ],\n",
       "       [0.97435546],\n",
       "       [0.34222108],\n",
       "       [0.043487  ],\n",
       "       [0.78014565],\n",
       "       [0.02003042]], dtype=float32)"
      ]
     },
     "execution_count": 123,
     "metadata": {},
     "output_type": "execute_result"
    }
   ],
   "source": [
    "#passing tokenised instance to the lstm model from predection \n",
    "unseen_sentement=LSTM_model.predict(unseen_padded)\n",
    "unseen_sentement"
   ]
  },
  {
   "cell_type": "code",
   "execution_count": 127,
   "metadata": {},
   "outputs": [
    {
     "data": {
      "text/html": [
       "<div>\n",
       "<style scoped>\n",
       "    .dataframe tbody tr th:only-of-type {\n",
       "        vertical-align: middle;\n",
       "    }\n",
       "\n",
       "    .dataframe tbody tr th {\n",
       "        vertical-align: top;\n",
       "    }\n",
       "\n",
       "    .dataframe thead th {\n",
       "        text-align: right;\n",
       "    }\n",
       "</style>\n",
       "<table border=\"1\" class=\"dataframe\">\n",
       "  <thead>\n",
       "    <tr style=\"text-align: right;\">\n",
       "      <th></th>\n",
       "      <th>Movie</th>\n",
       "      <th>Review Text</th>\n",
       "      <th>IMDb Rating</th>\n",
       "      <th>Predection_sentement</th>\n",
       "    </tr>\n",
       "  </thead>\n",
       "  <tbody>\n",
       "    <tr>\n",
       "      <th>0</th>\n",
       "      <td>Ex Machina</td>\n",
       "      <td>Intelligent Movie.\\nThis movie is obviously al...</td>\n",
       "      <td>9</td>\n",
       "      <td>5.2</td>\n",
       "    </tr>\n",
       "    <tr>\n",
       "      <th>1</th>\n",
       "      <td>Ex Machina</td>\n",
       "      <td>Extraordinary and thought-provoking.\\n'Ex mach...</td>\n",
       "      <td>10</td>\n",
       "      <td>9.7</td>\n",
       "    </tr>\n",
       "    <tr>\n",
       "      <th>2</th>\n",
       "      <td>Ex Machina</td>\n",
       "      <td>Poor story, only reasonable otherwise.\\nIf I h...</td>\n",
       "      <td>3</td>\n",
       "      <td>3.4</td>\n",
       "    </tr>\n",
       "    <tr>\n",
       "      <th>3</th>\n",
       "      <td>Ex Machina</td>\n",
       "      <td>Had Great Potential.\\nThis movie is one of the...</td>\n",
       "      <td>1</td>\n",
       "      <td>0.4</td>\n",
       "    </tr>\n",
       "    <tr>\n",
       "      <th>4</th>\n",
       "      <td>Eternals</td>\n",
       "      <td>Amazing visuals and philosophical concepts!\\n\\...</td>\n",
       "      <td>10</td>\n",
       "      <td>7.8</td>\n",
       "    </tr>\n",
       "  </tbody>\n",
       "</table>\n",
       "</div>"
      ],
      "text/plain": [
       "        Movie                                        Review Text  IMDb Rating  \\\n",
       "0  Ex Machina  Intelligent Movie.\\nThis movie is obviously al...            9   \n",
       "1  Ex Machina  Extraordinary and thought-provoking.\\n'Ex mach...           10   \n",
       "2  Ex Machina  Poor story, only reasonable otherwise.\\nIf I h...            3   \n",
       "3  Ex Machina  Had Great Potential.\\nThis movie is one of the...            1   \n",
       "4    Eternals  Amazing visuals and philosophical concepts!\\n\\...           10   \n",
       "\n",
       "   Predection_sentement  \n",
       "0                   5.2  \n",
       "1                   9.7  \n",
       "2                   3.4  \n",
       "3                   0.4  \n",
       "4                   7.8  "
      ]
     },
     "execution_count": 127,
     "metadata": {},
     "output_type": "execute_result"
    }
   ],
   "source": [
    "#writing this file on local file\n",
    "sample_review['Predection_sentement']=np.round(unseen_sentement*10,1)\n",
    "df_prediction_sentiments = pd.DataFrame(sample_review['Predection_sentement'],columns=['Predection_sentement'])\n",
    "df_movie                =pd.DataFrame(sample_review['Movie'],columns=['Movie'])\n",
    "df_Review_Text=pd.DataFrame(sample_review['Review Text'],columns=['Review Text'])\n",
    "df_IMDb_Rating=pd.DataFrame(sample_review['IMDb Rating'],columns=['IMDb Rating'])\n",
    "\n",
    "dfx=pd.concat([df_movie,df_Review_Text,df_IMDb_Rating,df_prediction_sentiments],axis=1)\n",
    "\n",
    "dfx.to_csv('File_unseen.csv',sep=',',encoding='UTF-8')\n",
    "\n",
    "dfx.head()\n"
   ]
  }
 ],
 "metadata": {
  "kernelspec": {
   "display_name": "base",
   "language": "python",
   "name": "python3"
  },
  "language_info": {
   "codemirror_mode": {
    "name": "ipython",
    "version": 3
   },
   "file_extension": ".py",
   "mimetype": "text/x-python",
   "name": "python",
   "nbconvert_exporter": "python",
   "pygments_lexer": "ipython3",
   "version": "3.10.9"
  }
 },
 "nbformat": 4,
 "nbformat_minor": 2
}
